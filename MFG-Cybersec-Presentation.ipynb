{
 "cells": [
  {
   "cell_type": "markdown",
   "metadata": {
    "slideshow": {
     "slide_type": "slide"
    }
   },
   "source": [
    "# Cyber-Security Model\n",
    "\n",
    "## Mean Field Game with Finitely Many States\n",
    "\n",
    "#### Samuel Babichenko, Alexander Bernstein, Cosmin Borsa, Jimin Lin"
   ]
  },
  {
   "cell_type": "code",
   "execution_count": 41,
   "metadata": {
    "slideshow": {
     "slide_type": "skip"
    }
   },
   "outputs": [],
   "source": [
    "import numpy as np\n",
    "import pandas as pd\n",
    "from scipy.linalg import expm\n",
    "import matplotlib.pyplot as plt\n",
    "from matplotlib import rc\n",
    "import copy\n",
    "plt.style.use('seaborn-white')\n",
    "plt.rcParams['figure.figsize'] = (10, 6)\n",
    "from tqdm import tqdm, trange"
   ]
  },
  {
   "cell_type": "markdown",
   "metadata": {},
   "source": [
    "# Functions"
   ]
  },
  {
   "cell_type": "markdown",
   "metadata": {
    "slideshow": {
     "slide_type": "slide"
    }
   },
   "source": [
    "Hamilton-Jacobi-Bellman Equation\n",
    "$$\\partial_t u^{\\mu}(t, x) + H^{\\star}(t, x, \\mu_t, u^{\\mu}(t, \\cdot)) = 0, \\qquad t \\in [0, T], x \\in E$$\n",
    "where $E = \\{\\text{DI, DS, UI, US}\\}$ with terminal condition\n",
    "$u^{\\mu_t}(T, x) = g(x, \\mu_T)$.\n",
    "\n",
    "The value function\n",
    "$$u^{\\mu}(t, x) = \\inf_{\\alpha \\in \\mathbb{A}_t} \\mathbb{E}\\bigg[ \\int_t^T f(s, X_s, \\mu_s, \\alpha_s) ds + g(X_T, \\mu_T) \\mid X_t = x\\bigg]$$\n",
    "\n",
    "Discretizing 7.33\n",
    "\n",
    "\\begin{align}\n",
    "& \\partial_t u ^\\mu(t, x) + H^*(t,x, \\mu_t, u^{\\mu}(t, \\cdot)) = 0\\\\\n",
    "& \\partial_t u ^\\mu(t, x) + \\lambda_t(x, \\cdot, \\mu_t, \\hat{\\alpha}) u^{\\mu}(t, \\cdot) + f(x) = 0\\\\\n",
    "& \\frac{u ^\\mu(t+ \\delta t, x) - u ^\\mu(t, x)}{δt} + \\frac{P_{x, \\cdot}^{\\mu_t, \\hat{\\alpha}}(\\delta t) - P_{x, \\cdot}^{\\mu_t, \\hat{\\alpha}}(0)}{\\delta t} u^{\\mu}(t + \\delta t, \\cdot) + f(x) = 0 \\\\\n",
    "& u ^\\mu(t, x) = P_{x, \\cdot}^{\\mu_t, \\hat{\\alpha}}(\\delta t)u^{\\mu}(t + \\delta t, \\cdot) + f(x) \\delta t\n",
    "\\end{align}\n",
    "\n",
    "Kolmogorov Fokker Planck equation\n",
    "\n",
    "Discretizing 7.36\n",
    "\n",
    "\\begin{align}\n",
    "& \\partial_t \\mu_t(x) = \\mu_t(\\cdot) \\lambda_t(\\cdot, x, \\mu_t, \\hat{\\alpha})\\\\\n",
    "& \\frac{\\mu_{t+ \\delta t}(x) - \\mu_t(x)}{\\delta t} =  \\mu_t(\\cdot) \\frac{P_{\\cdot, x}^{\\mu_t, \\hat{\\alpha}}(\\delta t) - P_{\\cdot, x}^{\\mu_t, \\hat{\\alpha}}(0)}{\\delta t} \\\\\n",
    "& \\mu_{t + \\delta t}(x) = \\mu_t(\\cdot) P_{\\cdot, x}^{\\mu_t, \\hat{\\alpha}}(\\delta t)\n",
    "\\end{align}"
   ]
  },
  {
   "cell_type": "markdown",
   "metadata": {
    "slideshow": {
     "slide_type": "slide"
    }
   },
   "source": [
    "#### State Space\n",
    "\n",
    "- **DI**: defended infected\n",
    "- **DS**: defended and susceptible to infection\n",
    "- **UI**: unprotected infected\n",
    "- **US**: unprotected and susceptible to infection\n",
    "\n",
    "#### Actions\n",
    "\n",
    "**Action 0** maintains the status quo: the computer owner is sticks with its level of defense (Defended or Unprotected)\n",
    "\n",
    "**Action 1** corresponds to a switch to the other state (Unprotected or Defended): the computer owner updates the level of protection of its computer.\n",
    "\n",
    "Updating occurs after an exponential time with parameter $\\lambda > 0$, which accounts for the speed of the response of the defense system.\n",
    "\n",
    "#### Parameters\n",
    "\n",
    "$q_{rec}^D$: recovery rate for a protected computer \n",
    "\n",
    "$q_{rec}^U$: recovery rate for a an unprotected computer\n",
    "\n",
    "$v_{H}$: intensity of the attack\n",
    "\n",
    "$\\beta_{UU} \\mu\\{UI\\}$: rate of infection of an unprotected susceptible computer by other unprotected infected computers\n",
    "\n",
    "$\\beta_{UD}\\mu\\{UI\\}$: rate of infection of a protected susceptible computer by other unprotected infected computers\n",
    "\n",
    "$\\beta_{DU} \\mu\\{DI\\}$: rate of infection of an unprotected susceptible computer by other protected infected computers\n",
    "\n",
    "$\\beta_{DD} \\mu\\{DI\\}$: rate of infection of a protected susceptible computer by other protected infected computers\n",
    "\n",
    "The rate of transition $\\lambda_t (x, x', \\mu, v_H, \\alpha)$ for the state of a computer in the network\n",
    "\n",
    "$k_D$ fee per unit of time paid by the computer owner for the defense of its system\n",
    "\n",
    "$k_I$ fee per unit of time for losses resulting from infection.\n",
    "\n",
    "Here $D = \\{\\text{DI, DS}\\}$ and $I = \\{\\text{DI, UI}\\}$\n",
    "\n",
    "Let $X_t$ denote the state of the computer at time $t$, and $\\alpha = (\\alpha_t)_{0 \\leq t \\leq T}$ its control, the expected cost to a typical computer owner is given by:\n",
    "\n",
    "$$J(\\alpha) = \\mathbf{E}\\bigg[\\int_0^T \\big(k_D 1_D + k_I 1_I\\big)(X_t) dt\\bigg]$$\n"
   ]
  },
  {
   "cell_type": "code",
   "execution_count": 42,
   "metadata": {
    "slideshow": {
     "slide_type": "slide"
    }
   },
   "outputs": [],
   "source": [
    "def get_qmat(mu, a, q_inf_U, q_inf_D, q_rec_D, q_rec_U, b_UU, b_UD, b_DU, b_DD, ν_H, lambd):\n",
    "    '''\n",
    "    Get infinitesimal generator matrix given measure and action\n",
    "    Input:\n",
    "    mu: dictionary or pd.series like {'DI': 0.25, 'DS': 0.25, 'UI': 0.25, 'US': 0.25}\n",
    "    a: action in [0, 1]\n",
    "    Output:\n",
    "    Q: 4 X 4 matrix\n",
    "    '''\n",
    "    if a == 0:\n",
    "        Q = np.array([\n",
    "            [-q_rec_D, q_rec_D, 0, 0],\n",
    "            [ν_H*q_inf_D + b_DD*mu['DI'] + b_UD*mu['UI'], -(ν_H*q_inf_D+b_DD*mu['DI']+b_UD*mu['UI']), 0, 0],\n",
    "            [0, 0, -q_rec_U , q_rec_U],\n",
    "            [0, 0, ν_H*q_inf_U + b_UU*mu['UI']+b_DU*mu['DI'], -(ν_H*q_inf_U+b_UU*mu['UI']+b_DU*mu['DI'])]   \n",
    "            ])\n",
    "    elif a == 1:\n",
    "        Q = np.array([\n",
    "            [-(q_rec_D+lambd), q_rec_D, lambd, 0],\n",
    "            [ν_H*q_inf_D + b_DD*mu['DI']+b_UD*mu['UI'], -(ν_H*q_inf_D+b_DD*mu['DI']+b_UD*mu['UI']+lambd), 0, lambd],\n",
    "            [lambd, 0, -(q_rec_U+lambd), q_rec_U],\n",
    "            [0, lambd, ν_H*q_inf_U+b_UU*mu['UI']+b_DU*mu['DI'], -(ν_H*q_inf_U+b_UU*mu['UI']+b_DU*mu['DI']+lambd)]   \n",
    "            ])\n",
    "    return Q"
   ]
  },
  {
   "cell_type": "code",
   "execution_count": 43,
   "metadata": {
    "slideshow": {
     "slide_type": "fragment"
    }
   },
   "outputs": [],
   "source": [
    "def get_f(k_D= 0.3, k_I= 0.5):\n",
    "    '''\n",
    "    Running cost function\n",
    "    '''\n",
    "    return np.array([k_D + k_I, k_D, k_I, 0])"
   ]
  },
  {
   "cell_type": "code",
   "execution_count": 44,
   "metadata": {
    "slideshow": {
     "slide_type": "slide"
    }
   },
   "outputs": [],
   "source": [
    "def solve_hjb(mu_flow, param_q, param_f):\n",
    "    '''\n",
    "    Solve discrete dynamic programming given a fixed \n",
    "    '''\n",
    "    a_space = [0, 1]\n",
    "    # initialize value function\n",
    "    u = pd.DataFrame(np.zeros(mu_flow.shape), index=mu_flow.index, columns=mu_flow.columns)         \n",
    "    # initialize action flow\n",
    "    a_flow = pd.DataFrame(np.zeros(mu_flow.shape), index=mu_flow.index, columns=mu_flow.columns)    \n",
    "    # get time step\n",
    "    dt = mu_flow.index[1]\n",
    "    \n",
    "    f = get_f(**param_f)\n",
    "    for t in reversed(range(len(u)-1)):\n",
    "        mu = mu_flow.iloc[t]\n",
    "        Q = [get_qmat(mu, a, **param_q) for a in a_space]         # Q matrix by mu and action\n",
    "        P = [expm(q*dt) for q in Q]\n",
    "        \n",
    "        u_t_list = np.vstack([p@u.iloc[t+1] +  f*dt for p in P])  # Halmitonian * dt (7.33)\n",
    "        u_t_list_min = u_t_list.min(axis=0)                       # min Halmitonian\n",
    "        a = u_t_list.argmin(axis=0)                               # corresponding action\n",
    "        u.iloc[t] = u_t_list_min                                  # record value funtion at t\n",
    "        a_flow.iloc[t] = a                                        # record action at t\n",
    "    return a_flow, u"
   ]
  },
  {
   "cell_type": "code",
   "execution_count": 45,
   "metadata": {
    "slideshow": {
     "slide_type": "subslide"
    }
   },
   "outputs": [],
   "source": [
    "def solve_flow(mu0, a_flow, param_q, param_f):\n",
    "    mu_flow = pd.DataFrame(np.zeros(a_flow.shape), index=a_flow.index, columns=a_flow.columns)\n",
    "    mu_flow.iloc[0] = mu0\n",
    "    \n",
    "    t_len, x_len = a_flow.shape\n",
    "    dt = a_flow.index[1]\n",
    "    \n",
    "    for t in range(t_len-1):\n",
    "        mu = mu_flow.iloc[t]\n",
    "        ax = a_flow.iloc[t]\n",
    "        mu_new = mu @ [expm(get_qmat(mu, ax[x], **param_q) *dt)[x]             # KFP eqn (7.36)\n",
    "                     for x in range(x_len)]\n",
    "        mu_flow.iloc[t+1] = mu_new\n",
    "    return mu_flow"
   ]
  },
  {
   "cell_type": "code",
   "execution_count": 46,
   "metadata": {
    "slideshow": {
     "slide_type": "subslide"
    }
   },
   "outputs": [],
   "source": [
    "def solve_fixpoint(mu0, param_q, param_f, T=10, n:int=1000, iterations:int=1):\n",
    "    tline = np.linspace(0, T, n+1)\n",
    "    dt = T/n\n",
    "    mu_flow = pd.DataFrame(np.random.dirichlet(np.ones(len(mu0)), size=len(tline)), index=tline, columns=mu0.index)\n",
    "\n",
    "    a_flow_list = []\n",
    "    mu_flow_list = []\n",
    "    for i in range(iterations):\n",
    "        a_flow, _ = solve_hjb(mu_flow, param_q, param_f)\n",
    "        mu_flow = solve_flow(mu0, a_flow, param_q, param_f)\n",
    "\n",
    "        mu_flow_list.append(mu_flow)\n",
    "        a_flow_list.append(a_flow)\n",
    "    \n",
    "    return (mu_flow_list, a_flow_list)"
   ]
  },
  {
   "cell_type": "code",
   "execution_count": 47,
   "metadata": {
    "slideshow": {
     "slide_type": "notes"
    }
   },
   "outputs": [],
   "source": [
    "# Param for discretization\n",
    "T = 10\n",
    "n = 1000\n",
    "tline = np.linspace(0, T, n+1)\n",
    "\n",
    "# Param for plot\n",
    "param_plot={ 'style': ['-', '--', ':', '-.'],\n",
    "    'color': ['black', 'red', 'green', 'blue'],\n",
    "    'ylim': [-0.02,1.02],\n",
    "    'xlim': [-0.2, T+0.2]}\n",
    "\n",
    "# Parameter set 1\n",
    "param_q = {'q_inf_U': 0.3, 'q_inf_D': 0.4, 'q_rec_D': 0.5, 'q_rec_U': 0.4,\n",
    "           'b_UU': 0.3, 'b_UD': 0.4, 'b_DU': 0.3, 'b_DD': 0.4,'ν_H': 0.6, 'lambd': 0.8}\n",
    "\n",
    "param_f = {'k_D': 0.3, 'k_I': 0.5}\n",
    "\n",
    "# Parameter set 2\n",
    "param_q2 = {'q_inf_U': 0.3, 'q_inf_D': 0.4, 'q_rec_D': 0.3, 'q_rec_U': 0.3,\n",
    "            'b_UU': 5, 'b_UD': 5, 'b_DU': 2, 'b_DD': 2, 'ν_H': 0.6, 'lambd': 100000000}\n",
    "\n",
    "param_f2 = {'k_D': 0.5385, 'k_I': 1}"
   ]
  },
  {
   "cell_type": "markdown",
   "metadata": {
    "slideshow": {
     "slide_type": "notes"
    }
   },
   "source": [
    "# Fig 7.1"
   ]
  },
  {
   "cell_type": "code",
   "execution_count": 48,
   "metadata": {
    "slideshow": {
     "slide_type": "skip"
    }
   },
   "outputs": [],
   "source": [
    "mu0_1 = pd.Series([0.25, 0.25, 0.25, 0.25], index=['DI', 'DS', 'UI', 'US'])\n",
    "mu0_2 = pd.Series([1, 0, 0, 0], index=['DI', 'DS', 'UI', 'US'])\n",
    "mu0_3 = pd.Series([0, 0, 0, 1], index=['DI', 'DS', 'UI', 'US'])\n",
    "# Invariant measure\n",
    "mu0_4 = pd.Series([0, 0, 0.44, 0.56], index=['DI', 'DS', 'UI', 'US'])"
   ]
  },
  {
   "cell_type": "code",
   "execution_count": null,
   "metadata": {
    "slideshow": {
     "slide_type": "slide"
    }
   },
   "outputs": [],
   "source": [
    "for mu0 in [mu0_1, mu0_2, mu0_3, mu0_4]:\n",
    "    mu_flow_list, a_flow_list = solve_fixpoint(mu0, param_q, param_f)\n",
    "    mu_flow_list[-1].plot(**param_plot)\n",
    "    plt.title(r'Time evolution of the state distribution with '+ '$\\mu_0 =$' + str(mu0.values.tolist()))\n",
    "    plt.legend(fontsize=15)\n",
    "    plt.ylabel(r'$\\mu(t)$')\n",
    "    plt.xlabel('time')"
   ]
  },
  {
   "cell_type": "markdown",
   "metadata": {},
   "source": [
    "# Fig 7.2\n",
    "\n",
    "The reason $a(T,x) =0$ 0 at the right end is because $g(X_T) \\equiv 0$ and action doesn't matter."
   ]
  },
  {
   "cell_type": "code",
   "execution_count": null,
   "metadata": {},
   "outputs": [],
   "source": [
    "a_flow_list[-1].plot(**param_plot);"
   ]
  },
  {
   "cell_type": "markdown",
   "metadata": {
    "slideshow": {
     "slide_type": "skip"
    }
   },
   "source": [
    "# Fig 7.3"
   ]
  },
  {
   "cell_type": "code",
   "execution_count": null,
   "metadata": {
    "slideshow": {
     "slide_type": "slide"
    }
   },
   "outputs": [],
   "source": [
    "mu_flow_list, a_flow_list = solve_fixpoint(mu0_1, param_q2, param_f2, iterations=5)"
   ]
  },
  {
   "cell_type": "code",
   "execution_count": null,
   "metadata": {
    "slideshow": {
     "slide_type": "subslide"
    }
   },
   "outputs": [],
   "source": [
    "mu_flow_list[0].plot(**param_plot)\n",
    "plt.title(mu0_1.values.tolist());"
   ]
  },
  {
   "cell_type": "markdown",
   "metadata": {
    "slideshow": {
     "slide_type": "skip"
    }
   },
   "source": [
    "## it doesn't iterate"
   ]
  },
  {
   "cell_type": "code",
   "execution_count": null,
   "metadata": {
    "scrolled": true,
    "slideshow": {
     "slide_type": "slide"
    }
   },
   "outputs": [],
   "source": [
    "mu_flow_list[-1].plot(**param_plot)\n",
    "plt.title(mu0_1.values.tolist());"
   ]
  },
  {
   "cell_type": "markdown",
   "metadata": {
    "slideshow": {
     "slide_type": "slide"
    }
   },
   "source": [
    "## References\n",
    "\n",
    "Carmona, René et al. Probabilistic Theory of Mean Field Games with Applications I: Mean Field FBSDEs, Control, and Games. Vol. 83, Springer International Publishing, 2018."
   ]
  }
 ],
 "metadata": {
  "kernelspec": {
   "display_name": "Python 3",
   "language": "python",
   "name": "python3"
  },
  "language_info": {
   "codemirror_mode": {
    "name": "ipython",
    "version": 3
   },
   "file_extension": ".py",
   "mimetype": "text/x-python",
   "name": "python",
   "nbconvert_exporter": "python",
   "pygments_lexer": "ipython3",
   "version": "3.8.3"
  }
 },
 "nbformat": 4,
 "nbformat_minor": 4
}

{
 "cells": [
  {
   "cell_type": "code",
   "execution_count": 2,
   "metadata": {},
   "outputs": [],
   "source": [
    "import numpy as np"
   ]
  },
  {
   "cell_type": "code",
   "execution_count": 3,
   "metadata": {},
   "outputs": [],
   "source": [
    "def QMatrix(μ, α):\n",
    "    '''\n",
    "    Temporary function to check the generating matrix, after we figure out how the algorithm works,\n",
    "    we will know what should we modulize.\n",
    "    \n",
    "    Input:\n",
    "    μ: \n",
    "    '''\n",
    "    # bear with the ugly parametrization for a moment :D\n",
    "    q_inf_U= 0.3\n",
    "    q_inf_D= 0.4\n",
    "    q_rec_D= 0.5\n",
    "    q_rec_U= 0.4\n",
    "    \n",
    "    λ= 0.8\n",
    "    β_UU= 0.3\n",
    "    β_UD= 0.4\n",
    "    β_DU= 0.3\n",
    "    β_DD= 0.4\n",
    "    ν_Η= 0.6\n",
    "    k_D= 0.3\n",
    "    k_I= 0.5\n",
    "    Q = {\n",
    "        0: np.array([\n",
    "            [-q_rec_D, q_rec_D, 0, 0],\n",
    "            [ν_Η*q_inf_D + β_DD*μ['DI'] + β_UD*μ['UI'], - ν_Η*q_inf_D + β_DD*μ['DI'] + β_UD*μ['UI'], 0, 0],\n",
    "            [0, 0, -q_rec_U , q_rec_U],\n",
    "            [0, 0, ν_Η*q_inf_U + β_UU*μ['UI']+ β_DU*μ['DI'], -ν_Η*q_inf_U + β_UU*μ['UI']+ β_DU*μ['DI']]   \n",
    "            ]),\n",
    "        1: np.array([\n",
    "            [-(q_rec_D+λ), q_rec_D, λ, 0],\n",
    "            [ν_Η*q_inf_D + β_DD*μ['DI'] + β_UD*μ['UI'], - (ν_Η*q_inf_D + β_DD*μ['DI'] + β_UD*μ['UI'] + λ), 0, λ],\n",
    "            [λ, 0, -(q_rec_U+λ) , q_rec_U],\n",
    "            [0, λ, ν_Η*q_inf_U + β_UU*μ['UI']+ β_DU*μ['DI'], -(ν_Η*q_inf_U + β_UU*μ['UI']+ β_DU*μ['DI']+λ)]   \n",
    "            ])\n",
    "    }\n",
    "    return Q[α]"
   ]
  },
  {
   "cell_type": "code",
   "execution_count": 10,
   "metadata": {},
   "outputs": [
    {
     "name": "stdout",
     "output_type": "stream",
     "text": [
      "[[-1.3   0.5   0.8   0.  ]\n",
      " [ 0.44 -1.24  0.    0.8 ]\n",
      " [ 0.8   0.   -1.2   0.4 ]\n",
      " [ 0.    0.8   0.33 -1.13]] \n",
      "\n",
      " [[-0.5   0.5   0.    0.  ]\n",
      " [ 0.44 -0.04  0.    0.  ]\n",
      " [ 0.    0.   -0.4   0.4 ]\n",
      " [ 0.    0.    0.33 -0.03]]\n"
     ]
    }
   ],
   "source": [
    "# test the generating matrix\n",
    "μ = {\n",
    "    'DI': 0.25,\n",
    "    'DS': 0.25,\n",
    "    'UI': 0.25,\n",
    "    'US': 0.25\n",
    "}\n",
    "print(get_Q(μ, 1), '\\n\\n', get_Q(μ, 0))"
   ]
  },
  {
   "cell_type": "code",
   "execution_count": 1,
   "metadata": {},
   "outputs": [],
   "source": [
    "# T = 10\n",
    "# n = 2000\n",
    "# dt = T/n\n",
    "# tline = np.linspace(0, T, n)\n",
    "\n",
    "# X_t = [np.random.choice(['D', 'I']) for i in range(len(tline))]\n",
    "# k_t = [k_D if x =='D' else k_I for x in X_t]\n",
    "# np.sum(k_t)* dt"
   ]
  },
  {
   "cell_type": "code",
   "execution_count": 2,
   "metadata": {},
   "outputs": [
    {
     "name": "stdout",
     "output_type": "stream",
     "text": [
      "5\n"
     ]
    }
   ],
   "source": [
    "print(5)"
   ]
  }
 ],
 "metadata": {
  "kernelspec": {
   "display_name": "Python 3",
   "language": "python",
   "name": "python3"
  },
  "language_info": {
   "codemirror_mode": {
    "name": "ipython",
    "version": 3
   },
   "file_extension": ".py",
   "mimetype": "text/x-python",
   "name": "python",
   "nbconvert_exporter": "python",
   "pygments_lexer": "ipython3",
   "version": "3.8.3"
  }
 },
 "nbformat": 4,
 "nbformat_minor": 4
}

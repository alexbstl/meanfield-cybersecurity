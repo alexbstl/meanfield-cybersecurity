{
 "cells": [
  {
   "cell_type": "code",
   "execution_count": null,
   "id": "d033a64d",
   "metadata": {},
   "outputs": [],
   "source": [
    "import numpy as np\n",
    "import pandas as pd\n",
    "from scipy.linalg import expm\n",
    "import matplotlib.pyplot as plt\n",
    "from matplotlib import rc\n",
    "import copy\n",
    "plt.style.use('seaborn-white')\n",
    "plt.rcParams['figure.figsize'] = (10, 6)\n",
    "from tqdm import tqdm, trange"
   ]
  },
  {
   "cell_type": "code",
   "execution_count": 3,
   "id": "d0265157",
   "metadata": {},
   "outputs": [],
   "source": [
    "def get_qmat(mu, a, q_inf_U, q_inf_D, q_rec_D, q_rec_U, b_UU, b_UD, b_DU, b_DD, ν_H, la):\n",
    "    '''\n",
    "    Get infinitesimal generator matrix given measure and action\n",
    "    Input:\n",
    "    mu: dictionary or pd.series like {'DI': 0.25, 'DS': 0.25, 'UI': 0.25, 'US': 0.25}\n",
    "    a: action in [0, 1]\n",
    "    Output:\n",
    "    Q: 4 X 4 matrix\n",
    "    '''\n",
    "    if a == 0:\n",
    "        Q = np.array([\n",
    "            [-q_rec_D, q_rec_D, 0, 0],\n",
    "            [ν_H*q_inf_D+b_DD*mu['DI']+b_UD*mu['UI'], -(ν_H*q_inf_D+b_DD*mu['DI']+b_UD*mu['UI']), 0, 0],\n",
    "            [0, 0, -q_rec_U , q_rec_U],\n",
    "            [0, 0, ν_H*q_inf_U+b_UU*mu['UI']+b_DU*mu['DI'], -(ν_H*q_inf_U+b_UU*mu['UI']+b_DU*mu['DI'])]   \n",
    "            ])\n",
    "    elif a == 1:\n",
    "        Q = np.array([\n",
    "            [-(q_rec_D+la), q_rec_D, la, 0],\n",
    "            [ν_H*q_inf_D+b_DD*mu['DI']+b_UD*mu['UI'], -(ν_H*q_inf_D+b_DD*mu['DI']+b_UD*mu['UI']+la), 0, la],\n",
    "            [la, 0, -(q_rec_U+la), q_rec_U],\n",
    "            [0, la, ν_H*q_inf_U+b_UU*mu['UI']+b_DU*mu['DI'], -(ν_H*q_inf_U+b_UU*mu['UI']+b_DU*mu['DI']+la)]   \n",
    "            ])\n",
    "    return Q"
   ]
  },
  {
   "cell_type": "code",
   "execution_count": 4,
   "id": "cb97c784",
   "metadata": {},
   "outputs": [],
   "source": [
    "def get_f(k_D, k_I):\n",
    "    '''\n",
    "    Running cost function\n",
    "    '''\n",
    "    return np.array([k_D + k_I, k_D, k_I, 0])"
   ]
  },
  {
   "cell_type": "code",
   "execution_count": 5,
   "id": "81e42419",
   "metadata": {},
   "outputs": [],
   "source": [
    "def solve_hjb(mu_flow, param_q, param_f):\n",
    "    '''\n",
    "    Solve the HJB equation using discrete dynamic programming \n",
    "    '''\n",
    "    a_space = [0, 1]\n",
    "    # initialize value function\n",
    "    u = pd.DataFrame(np.zeros(mu_flow.shape), index=mu_flow.index, columns=mu_flow.columns)         \n",
    "    # initialize action flow\n",
    "    a_flow = pd.DataFrame(np.zeros(mu_flow.shape), index=mu_flow.index, columns=mu_flow.columns)    \n",
    "    # get time step\n",
    "    dt = mu_flow.index[1]\n",
    "    f = get_f(**param_f)\n",
    "    for t in reversed(range(len(u)-1)):\n",
    "        mu = mu_flow.iloc[t]\n",
    "        Q = [get_qmat(mu, a, **param_q) for a in a_space]         # Q matrix by mu and action\n",
    "        P = [expm(q*dt) for q in Q]\n",
    "        u_t_list = np.vstack([p@u.iloc[t+1] +  f*dt for p in P])  # Halmitonian * dt (7.33)\n",
    "        u_t_list_min = u_t_list.min(axis=0)                       # min Halmitonian\n",
    "        a = u_t_list.argmin(axis=0)                               # corresponding action\n",
    "        u.iloc[t] = u_t_list_min                                  # record value funtion at t\n",
    "        a_flow.iloc[t] = a                                        # record action at t\n",
    "    return a_flow, u"
   ]
  },
  {
   "cell_type": "code",
   "execution_count": 6,
   "id": "79d7d554",
   "metadata": {},
   "outputs": [],
   "source": [
    "def solve_flow(mu0, a_flow, param_q, param_f):\n",
    "    mu_flow = pd.DataFrame(np.zeros(a_flow.shape), index=a_flow.index, columns=a_flow.columns)\n",
    "    mu_flow.iloc[0] = mu0\n",
    "    t_len, x_len = a_flow.shape\n",
    "    dt = a_flow.index[1]\n",
    "    for t in range(t_len-1):\n",
    "        mu = mu_flow.iloc[t]\n",
    "        ax = a_flow.iloc[t]\n",
    "        mu_new = mu @ [expm(get_qmat(mu, ax[x], **param_q) *dt)[x]      # KFP eqn (7.36)\n",
    "                     for x in range(x_len)]\n",
    "        mu_flow.iloc[t+1] = mu_new\n",
    "    return mu_flow"
   ]
  },
  {
   "cell_type": "code",
   "execution_count": 7,
   "id": "ac1cb29c",
   "metadata": {},
   "outputs": [],
   "source": [
    "def solve_fixpoint(mu0, param_q, param_f, T=10, n=1000, iterations=1):\n",
    "    tline = np.linspace(0, T, n+1)\n",
    "    dt = T/n\n",
    "    mu_flow = pd.DataFrame(np.random.dirichlet(np.ones(len(mu0)), size=len(tline)), \n",
    "                           index=tline, columns=mu0.index)\n",
    "    a_flow_list = []\n",
    "    mu_flow_list = []\n",
    "    for i in range(iterations):\n",
    "        a_flow, _ = solve_hjb(mu_flow, param_q, param_f)\n",
    "        mu_flow = solve_flow(mu0, a_flow, param_q, param_f)\n",
    "        mu_flow_list.append(mu_flow)\n",
    "        a_flow_list.append(a_flow)\n",
    "    return (mu_flow_list, a_flow_list)"
   ]
  },
  {
   "cell_type": "code",
   "execution_count": 8,
   "id": "db09b302",
   "metadata": {},
   "outputs": [
    {
     "ename": "NameError",
     "evalue": "name 'np' is not defined",
     "output_type": "error",
     "traceback": [
      "\u001b[0;31m--------------------------------------------------------------------\u001b[0m",
      "\u001b[0;31mNameError\u001b[0m                          Traceback (most recent call last)",
      "\u001b[0;32m<ipython-input-8-73b61b922b8f>\u001b[0m in \u001b[0;36m<module>\u001b[0;34m\u001b[0m\n\u001b[1;32m      2\u001b[0m \u001b[0mT\u001b[0m \u001b[0;34m=\u001b[0m \u001b[0;36m10\u001b[0m\u001b[0;34m\u001b[0m\u001b[0;34m\u001b[0m\u001b[0m\n\u001b[1;32m      3\u001b[0m \u001b[0mn\u001b[0m \u001b[0;34m=\u001b[0m \u001b[0;36m1000\u001b[0m\u001b[0;34m\u001b[0m\u001b[0;34m\u001b[0m\u001b[0m\n\u001b[0;32m----> 4\u001b[0;31m \u001b[0mtline\u001b[0m \u001b[0;34m=\u001b[0m \u001b[0mnp\u001b[0m\u001b[0;34m.\u001b[0m\u001b[0mlinspace\u001b[0m\u001b[0;34m(\u001b[0m\u001b[0;36m0\u001b[0m\u001b[0;34m,\u001b[0m \u001b[0mT\u001b[0m\u001b[0;34m,\u001b[0m \u001b[0mn\u001b[0m\u001b[0;34m+\u001b[0m\u001b[0;36m1\u001b[0m\u001b[0;34m)\u001b[0m\u001b[0;34m\u001b[0m\u001b[0;34m\u001b[0m\u001b[0m\n\u001b[0m\u001b[1;32m      5\u001b[0m \u001b[0;34m\u001b[0m\u001b[0m\n\u001b[1;32m      6\u001b[0m \u001b[0;31m# Parameters for plot\u001b[0m\u001b[0;34m\u001b[0m\u001b[0;34m\u001b[0m\u001b[0;34m\u001b[0m\u001b[0m\n",
      "\u001b[0;31mNameError\u001b[0m: name 'np' is not defined"
     ]
    }
   ],
   "source": [
    "# Parameters for discretization\n",
    "T = 10\n",
    "n = 1000\n",
    "tline = np.linspace(0, T, n+1)\n",
    "\n",
    "# Parameters for plot\n",
    "param_plot={ 'style': ['-', '--', ':', '-.'],\n",
    "    'color': ['black', 'red', 'green', 'blue'],\n",
    "    'ylim': [-0.02,1.02],\n",
    "    'xlim': [-0.2, T+0.2]}"
   ]
  },
  {
   "cell_type": "code",
   "execution_count": null,
   "id": "18f85dde",
   "metadata": {},
   "outputs": [],
   "source": [
    "mu0_1 = pd.Series([0.25, 0.25, 0.25, 0.25], index=['DI', 'DS', 'UI', 'US'])\n",
    "mu_flow_list, a_flow_list = solve_fixpoint(mu0_1, param_q2, param_f2, iterations=5)\n",
    "mu_flow_list[0].plot(**param_plot)\n",
    "plt.title(r'Time evolution of the state distribution with '+ '$\\mu_0 =$' + str(mu0_1.values.tolist()) + '  and 5 iterations');\n",
    "plt.legend(fontsize=15)\n",
    "plt.ylabel(r'$\\mu_t$')\n",
    "plt.xlabel(r'Time')"
   ]
  }
 ],
 "metadata": {
  "kernelspec": {
   "display_name": "Python 3",
   "language": "python",
   "name": "python3"
  },
  "language_info": {
   "codemirror_mode": {
    "name": "ipython",
    "version": 3
   },
   "file_extension": ".py",
   "mimetype": "text/x-python",
   "name": "python",
   "nbconvert_exporter": "python",
   "pygments_lexer": "ipython3",
   "version": "3.9.5"
  }
 },
 "nbformat": 4,
 "nbformat_minor": 5
}
